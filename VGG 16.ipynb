{
 "cells": [
  {
   "cell_type": "code",
   "execution_count": 1,
   "metadata": {},
   "outputs": [
    {
     "name": "stderr",
     "output_type": "stream",
     "text": [
      "Using TensorFlow backend.\n",
      "C:\\Users\\AVANISH SINGHAL\\AppData\\Roaming\\Python\\Python37\\site-packages\\tensorflow\\python\\framework\\dtypes.py:516: FutureWarning: Passing (type, 1) or '1type' as a synonym of type is deprecated; in a future version of numpy, it will be understood as (type, (1,)) / '(1,)type'.\n",
      "  _np_qint8 = np.dtype([(\"qint8\", np.int8, 1)])\n",
      "C:\\Users\\AVANISH SINGHAL\\AppData\\Roaming\\Python\\Python37\\site-packages\\tensorflow\\python\\framework\\dtypes.py:517: FutureWarning: Passing (type, 1) or '1type' as a synonym of type is deprecated; in a future version of numpy, it will be understood as (type, (1,)) / '(1,)type'.\n",
      "  _np_quint8 = np.dtype([(\"quint8\", np.uint8, 1)])\n",
      "C:\\Users\\AVANISH SINGHAL\\AppData\\Roaming\\Python\\Python37\\site-packages\\tensorflow\\python\\framework\\dtypes.py:518: FutureWarning: Passing (type, 1) or '1type' as a synonym of type is deprecated; in a future version of numpy, it will be understood as (type, (1,)) / '(1,)type'.\n",
      "  _np_qint16 = np.dtype([(\"qint16\", np.int16, 1)])\n",
      "C:\\Users\\AVANISH SINGHAL\\AppData\\Roaming\\Python\\Python37\\site-packages\\tensorflow\\python\\framework\\dtypes.py:519: FutureWarning: Passing (type, 1) or '1type' as a synonym of type is deprecated; in a future version of numpy, it will be understood as (type, (1,)) / '(1,)type'.\n",
      "  _np_quint16 = np.dtype([(\"quint16\", np.uint16, 1)])\n",
      "C:\\Users\\AVANISH SINGHAL\\AppData\\Roaming\\Python\\Python37\\site-packages\\tensorflow\\python\\framework\\dtypes.py:520: FutureWarning: Passing (type, 1) or '1type' as a synonym of type is deprecated; in a future version of numpy, it will be understood as (type, (1,)) / '(1,)type'.\n",
      "  _np_qint32 = np.dtype([(\"qint32\", np.int32, 1)])\n",
      "C:\\Users\\AVANISH SINGHAL\\AppData\\Roaming\\Python\\Python37\\site-packages\\tensorflow\\python\\framework\\dtypes.py:525: FutureWarning: Passing (type, 1) or '1type' as a synonym of type is deprecated; in a future version of numpy, it will be understood as (type, (1,)) / '(1,)type'.\n",
      "  np_resource = np.dtype([(\"resource\", np.ubyte, 1)])\n",
      "C:\\Users\\AVANISH SINGHAL\\AppData\\Roaming\\Python\\Python37\\site-packages\\tensorboard\\compat\\tensorflow_stub\\dtypes.py:541: FutureWarning: Passing (type, 1) or '1type' as a synonym of type is deprecated; in a future version of numpy, it will be understood as (type, (1,)) / '(1,)type'.\n",
      "  _np_qint8 = np.dtype([(\"qint8\", np.int8, 1)])\n",
      "C:\\Users\\AVANISH SINGHAL\\AppData\\Roaming\\Python\\Python37\\site-packages\\tensorboard\\compat\\tensorflow_stub\\dtypes.py:542: FutureWarning: Passing (type, 1) or '1type' as a synonym of type is deprecated; in a future version of numpy, it will be understood as (type, (1,)) / '(1,)type'.\n",
      "  _np_quint8 = np.dtype([(\"quint8\", np.uint8, 1)])\n",
      "C:\\Users\\AVANISH SINGHAL\\AppData\\Roaming\\Python\\Python37\\site-packages\\tensorboard\\compat\\tensorflow_stub\\dtypes.py:543: FutureWarning: Passing (type, 1) or '1type' as a synonym of type is deprecated; in a future version of numpy, it will be understood as (type, (1,)) / '(1,)type'.\n",
      "  _np_qint16 = np.dtype([(\"qint16\", np.int16, 1)])\n",
      "C:\\Users\\AVANISH SINGHAL\\AppData\\Roaming\\Python\\Python37\\site-packages\\tensorboard\\compat\\tensorflow_stub\\dtypes.py:544: FutureWarning: Passing (type, 1) or '1type' as a synonym of type is deprecated; in a future version of numpy, it will be understood as (type, (1,)) / '(1,)type'.\n",
      "  _np_quint16 = np.dtype([(\"quint16\", np.uint16, 1)])\n",
      "C:\\Users\\AVANISH SINGHAL\\AppData\\Roaming\\Python\\Python37\\site-packages\\tensorboard\\compat\\tensorflow_stub\\dtypes.py:545: FutureWarning: Passing (type, 1) or '1type' as a synonym of type is deprecated; in a future version of numpy, it will be understood as (type, (1,)) / '(1,)type'.\n",
      "  _np_qint32 = np.dtype([(\"qint32\", np.int32, 1)])\n",
      "C:\\Users\\AVANISH SINGHAL\\AppData\\Roaming\\Python\\Python37\\site-packages\\tensorboard\\compat\\tensorflow_stub\\dtypes.py:550: FutureWarning: Passing (type, 1) or '1type' as a synonym of type is deprecated; in a future version of numpy, it will be understood as (type, (1,)) / '(1,)type'.\n",
      "  np_resource = np.dtype([(\"resource\", np.ubyte, 1)])\n"
     ]
    }
   ],
   "source": [
    "import numpy as np\n",
    "from keras.preprocessing.image import ImageDataGenerator\n",
    "from keras.models import Sequential\n",
    "from keras.layers import Dropout, Flatten, Dense\n",
    "from keras import applications"
   ]
  },
  {
   "cell_type": "code",
   "execution_count": 10,
   "metadata": {},
   "outputs": [],
   "source": [
    "img_width, img_height = 50, 50\n",
    "\n",
    "top_model_weights_path = 'bottleneck_fc_model.h5'\n",
    "train_data_dir = './breast-histopathology-images/8867/'\n",
    "validation_data_dir = './breast-histopathology-images/8914/',\n",
    "nb_train_samples = 1422\n",
    "nb_validation_samples = 800\n",
    "epochs = 10\n",
    "batch_size = 16"
   ]
  },
  {
   "cell_type": "code",
   "execution_count": 11,
   "metadata": {},
   "outputs": [
    {
     "name": "stdout",
     "output_type": "stream",
     "text": [
      "Found 1422 images belonging to 2 classes.\n",
      "Found 800 images belonging to 2 classes.\n"
     ]
    }
   ],
   "source": [
    "datagen = ImageDataGenerator(rescale=1. / 255)\n",
    "\n",
    "    # build the VGG16 network\n",
    "model = applications.VGG16(include_top=False, weights='imagenet')\n",
    "\n",
    "generator = datagen.flow_from_directory(\n",
    "    './breast-histopathology-images/8867/',\n",
    "    target_size=(img_width, img_height),\n",
    "    batch_size=batch_size,\n",
    "    class_mode=None,\n",
    "    shuffle=False)\n",
    "bottleneck_features_train = model.predict_generator(\n",
    "    generator, nb_train_samples / batch_size)\n",
    "np.save(open('bottleneck_features_trains.npy', 'wb'),\n",
    "        bottleneck_features_train)\n",
    "\n",
    "generator = datagen.flow_from_directory(\n",
    "    './breast-histopathology-images/8914/',\n",
    "    target_size=(img_width, img_height),\n",
    "    batch_size=batch_size,\n",
    "    class_mode=None,\n",
    "    shuffle=False)\n",
    "bottleneck_features_validation = model.predict_generator(\n",
    "    generator, nb_validation_samples / batch_size)\n",
    "np.save(open('bottleneck_features_validations.npy', 'wb'),\n",
    "        bottleneck_features_validation)\n",
    "\n"
   ]
  },
  {
   "cell_type": "code",
   "execution_count": 12,
   "metadata": {},
   "outputs": [
    {
     "name": "stdout",
     "output_type": "stream",
     "text": [
      "Train on 1422 samples, validate on 800 samples\n",
      "Epoch 1/25\n",
      "1422/1422 [==============================] - 1s 606us/step - loss: 0.5933 - accuracy: 0.6800 - val_loss: 0.6315 - val_accuracy: 0.6475\n",
      "Epoch 2/25\n",
      "1422/1422 [==============================] - 1s 352us/step - loss: 0.5104 - accuracy: 0.7496 - val_loss: 0.6091 - val_accuracy: 0.6525\n",
      "Epoch 3/25\n",
      "1422/1422 [==============================] - 0s 347us/step - loss: 0.4840 - accuracy: 0.7665 - val_loss: 0.5984 - val_accuracy: 0.6900\n",
      "Epoch 4/25\n",
      "1422/1422 [==============================] - 1s 740us/step - loss: 0.4687 - accuracy: 0.7567 - val_loss: 0.6323 - val_accuracy: 0.6875\n",
      "Epoch 5/25\n",
      "1422/1422 [==============================] - 1s 722us/step - loss: 0.4435 - accuracy: 0.7911 - val_loss: 0.6201 - val_accuracy: 0.6938\n",
      "Epoch 6/25\n",
      "1422/1422 [==============================] - 1s 724us/step - loss: 0.4436 - accuracy: 0.7876 - val_loss: 0.6166 - val_accuracy: 0.6938\n",
      "Epoch 7/25\n",
      "1422/1422 [==============================] - 1s 723us/step - loss: 0.4288 - accuracy: 0.8052 - val_loss: 0.6339 - val_accuracy: 0.7038\n",
      "Epoch 8/25\n",
      "1422/1422 [==============================] - 1s 709us/step - loss: 0.4178 - accuracy: 0.8017 - val_loss: 0.6313 - val_accuracy: 0.7088\n",
      "Epoch 9/25\n",
      "1422/1422 [==============================] - 1s 729us/step - loss: 0.4216 - accuracy: 0.7982 - val_loss: 0.6617 - val_accuracy: 0.7013\n",
      "Epoch 10/25\n",
      "1422/1422 [==============================] - 1s 737us/step - loss: 0.4159 - accuracy: 0.8024 - val_loss: 0.6505 - val_accuracy: 0.7000\n",
      "Epoch 11/25\n",
      "1422/1422 [==============================] - 1s 721us/step - loss: 0.4105 - accuracy: 0.8143 - val_loss: 0.6529 - val_accuracy: 0.7125\n",
      "Epoch 12/25\n",
      "1422/1422 [==============================] - 1s 724us/step - loss: 0.4045 - accuracy: 0.8179 - val_loss: 0.7131 - val_accuracy: 0.7025\n",
      "Epoch 13/25\n",
      "1422/1422 [==============================] - 1s 726us/step - loss: 0.4002 - accuracy: 0.8108 - val_loss: 0.7413 - val_accuracy: 0.7113\n",
      "Epoch 14/25\n",
      "1422/1422 [==============================] - 1s 720us/step - loss: 0.3938 - accuracy: 0.8066 - val_loss: 0.6978 - val_accuracy: 0.7100\n",
      "Epoch 15/25\n",
      "1422/1422 [==============================] - 1s 729us/step - loss: 0.3797 - accuracy: 0.8214 - val_loss: 0.7271 - val_accuracy: 0.7138\n",
      "Epoch 16/25\n",
      "1422/1422 [==============================] - 1s 747us/step - loss: 0.3816 - accuracy: 0.8214 - val_loss: 0.7245 - val_accuracy: 0.7175\n",
      "Epoch 17/25\n",
      "1422/1422 [==============================] - 1s 655us/step - loss: 0.3783 - accuracy: 0.8263 - val_loss: 0.6990 - val_accuracy: 0.7188\n",
      "Epoch 18/25\n",
      "1422/1422 [==============================] - 0s 253us/step - loss: 0.3750 - accuracy: 0.8235 - val_loss: 0.7543 - val_accuracy: 0.7200\n",
      "Epoch 19/25\n",
      "1422/1422 [==============================] - 0s 233us/step - loss: 0.3693 - accuracy: 0.8242 - val_loss: 0.7455 - val_accuracy: 0.7188\n",
      "Epoch 20/25\n",
      "1422/1422 [==============================] - 0s 226us/step - loss: 0.3618 - accuracy: 0.8277 - val_loss: 0.7558 - val_accuracy: 0.7225\n",
      "Epoch 21/25\n",
      "1422/1422 [==============================] - 0s 154us/step - loss: 0.3636 - accuracy: 0.8263 - val_loss: 0.7758 - val_accuracy: 0.7262\n",
      "Epoch 22/25\n",
      "1422/1422 [==============================] - 0s 149us/step - loss: 0.3542 - accuracy: 0.8298 - val_loss: 0.7643 - val_accuracy: 0.7088\n",
      "Epoch 23/25\n",
      "1422/1422 [==============================] - 0s 190us/step - loss: 0.3549 - accuracy: 0.8368 - val_loss: 0.8632 - val_accuracy: 0.7100\n",
      "Epoch 24/25\n",
      "1422/1422 [==============================] - 0s 203us/step - loss: 0.3564 - accuracy: 0.8418 - val_loss: 0.7836 - val_accuracy: 0.7262\n",
      "Epoch 25/25\n",
      "1422/1422 [==============================] - 0s 163us/step - loss: 0.3404 - accuracy: 0.8502 - val_loss: 0.8263 - val_accuracy: 0.7275\n"
     ]
    }
   ],
   "source": [
    "train_data = np.load(open('bottleneck_features_trains.npy','rb'))\n",
    "train_labels = np.array(\n",
    "    [0] * int(nb_train_samples / 2) + [1] * int(nb_train_samples / 2))\n",
    "\n",
    "validation_data = np.load(open('bottleneck_features_validations.npy','rb'))\n",
    "validation_labels = np.array(\n",
    "    [0] * int(nb_validation_samples / 2) + [1] * int(nb_validation_samples / 2))\n",
    "\n",
    "model = Sequential()\n",
    "model.add(Flatten(input_shape=train_data.shape[1:]))\n",
    "model.add(Dense(256, activation='relu'))\n",
    "model.add(Dropout(0.5))\n",
    "model.add(Dense(1, activation='sigmoid'))\n",
    "\n",
    "model.compile(optimizer='rmsprop',\n",
    "              loss='binary_crossentropy', metrics=['accuracy'])\n",
    "\n",
    "model.fit(train_data, train_labels,\n",
    "          epochs=25,\n",
    "          batch_size=batch_size,\n",
    "          validation_data=(validation_data, validation_labels))\n",
    "model.save_weights(top_model_weights_path)\n"
   ]
  },
  {
   "cell_type": "code",
   "execution_count": 11,
   "metadata": {},
   "outputs": [],
   "source": []
  },
  {
   "cell_type": "code",
   "execution_count": 12,
   "metadata": {},
   "outputs": [
    {
     "name": "stdout",
     "output_type": "stream",
     "text": [
      "Model: \"sequential_2\"\n",
      "_________________________________________________________________\n",
      "Layer (type)                 Output Shape              Param #   \n",
      "=================================================================\n",
      "conv2d_14 (Conv2D)           (None, 224, 224, 64)      1792      \n",
      "_________________________________________________________________\n",
      "conv2d_15 (Conv2D)           (None, 224, 224, 64)      36928     \n",
      "_________________________________________________________________\n",
      "max_pooling2d_6 (MaxPooling2 (None, 112, 112, 64)      0         \n",
      "_________________________________________________________________\n",
      "conv2d_16 (Conv2D)           (None, 112, 112, 128)     73856     \n",
      "_________________________________________________________________\n",
      "conv2d_17 (Conv2D)           (None, 112, 112, 128)     147584    \n",
      "_________________________________________________________________\n",
      "max_pooling2d_7 (MaxPooling2 (None, 56, 56, 128)       0         \n",
      "_________________________________________________________________\n",
      "conv2d_18 (Conv2D)           (None, 56, 56, 256)       295168    \n",
      "_________________________________________________________________\n",
      "conv2d_19 (Conv2D)           (None, 56, 56, 256)       590080    \n",
      "_________________________________________________________________\n",
      "conv2d_20 (Conv2D)           (None, 56, 56, 256)       590080    \n",
      "_________________________________________________________________\n",
      "max_pooling2d_8 (MaxPooling2 (None, 28, 28, 256)       0         \n",
      "_________________________________________________________________\n",
      "conv2d_21 (Conv2D)           (None, 28, 28, 512)       1180160   \n",
      "_________________________________________________________________\n",
      "conv2d_22 (Conv2D)           (None, 28, 28, 512)       2359808   \n",
      "_________________________________________________________________\n",
      "conv2d_23 (Conv2D)           (None, 28, 28, 512)       2359808   \n",
      "_________________________________________________________________\n",
      "max_pooling2d_9 (MaxPooling2 (None, 14, 14, 512)       0         \n",
      "_________________________________________________________________\n",
      "conv2d_24 (Conv2D)           (None, 14, 14, 512)       2359808   \n",
      "_________________________________________________________________\n",
      "conv2d_25 (Conv2D)           (None, 14, 14, 512)       2359808   \n",
      "_________________________________________________________________\n",
      "conv2d_26 (Conv2D)           (None, 14, 14, 512)       2359808   \n",
      "_________________________________________________________________\n",
      "max_pooling2d_10 (MaxPooling (None, 7, 7, 512)         0         \n",
      "_________________________________________________________________\n",
      "flatten_2 (Flatten)          (None, 25088)             0         \n",
      "_________________________________________________________________\n",
      "dense_4 (Dense)              (None, 4096)              102764544 \n",
      "_________________________________________________________________\n",
      "dense_5 (Dense)              (None, 4096)              16781312  \n",
      "_________________________________________________________________\n",
      "dense_6 (Dense)              (None, 2)                 8194      \n",
      "=================================================================\n",
      "Total params: 134,268,738\n",
      "Trainable params: 134,268,738\n",
      "Non-trainable params: 0\n",
      "_________________________________________________________________\n"
     ]
    }
   ],
   "source": []
  },
  {
   "cell_type": "code",
   "execution_count": 13,
   "metadata": {},
   "outputs": [],
   "source": []
  },
  {
   "cell_type": "code",
   "execution_count": null,
   "metadata": {},
   "outputs": [
    {
     "name": "stdout",
     "output_type": "stream",
     "text": [
      "Epoch 1/10\n",
      "  1/100 [..............................] - ETA: 55:16 - loss: 0.6906 - accuracy: 0.6250"
     ]
    }
   ],
   "source": []
  },
  {
   "cell_type": "code",
   "execution_count": null,
   "metadata": {},
   "outputs": [],
   "source": []
  },
  {
   "cell_type": "code",
   "execution_count": null,
   "metadata": {},
   "outputs": [],
   "source": []
  },
  {
   "cell_type": "code",
   "execution_count": null,
   "metadata": {},
   "outputs": [],
   "source": []
  },
  {
   "cell_type": "code",
   "execution_count": null,
   "metadata": {},
   "outputs": [],
   "source": []
  },
  {
   "cell_type": "code",
   "execution_count": null,
   "metadata": {},
   "outputs": [],
   "source": []
  },
  {
   "cell_type": "code",
   "execution_count": null,
   "metadata": {},
   "outputs": [],
   "source": []
  },
  {
   "cell_type": "code",
   "execution_count": null,
   "metadata": {},
   "outputs": [],
   "source": []
  },
  {
   "cell_type": "code",
   "execution_count": null,
   "metadata": {},
   "outputs": [],
   "source": []
  },
  {
   "cell_type": "code",
   "execution_count": null,
   "metadata": {},
   "outputs": [],
   "source": []
  },
  {
   "cell_type": "code",
   "execution_count": null,
   "metadata": {},
   "outputs": [],
   "source": []
  },
  {
   "cell_type": "code",
   "execution_count": null,
   "metadata": {},
   "outputs": [],
   "source": []
  },
  {
   "cell_type": "code",
   "execution_count": null,
   "metadata": {},
   "outputs": [],
   "source": []
  },
  {
   "cell_type": "code",
   "execution_count": null,
   "metadata": {},
   "outputs": [],
   "source": []
  },
  {
   "cell_type": "code",
   "execution_count": null,
   "metadata": {},
   "outputs": [],
   "source": []
  }
 ],
 "metadata": {
  "kernelspec": {
   "display_name": "Python 3",
   "language": "python",
   "name": "python3"
  },
  "language_info": {
   "codemirror_mode": {
    "name": "ipython",
    "version": 3
   },
   "file_extension": ".py",
   "mimetype": "text/x-python",
   "name": "python",
   "nbconvert_exporter": "python",
   "pygments_lexer": "ipython3",
   "version": "3.7.3"
  }
 },
 "nbformat": 4,
 "nbformat_minor": 2
}
